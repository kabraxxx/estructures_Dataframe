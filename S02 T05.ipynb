{
 "cells": [
  {
   "cell_type": "markdown",
   "id": "0d7ce96c",
   "metadata": {},
   "source": [
    "# S02 T05: Exploració de les dades #"
   ]
  },
  {
   "cell_type": "markdown",
   "id": "e2299ebc",
   "metadata": {},
   "source": [
    "Familiaritza't amb les tècniques d'exploració de les dades mitjantçant la estructura de dades, Dataframe amb la llibreria Pandas."
   ]
  },
  {
   "cell_type": "markdown",
   "id": "283d62fc",
   "metadata": {},
   "source": [
    "## Nivell 1 ##"
   ]
  },
  {
   "cell_type": "markdown",
   "id": "8851d4c4",
   "metadata": {},
   "source": [
    "### - Exercici 1 ###"
   ]
  },
  {
   "cell_type": "markdown",
   "id": "7013e01d",
   "metadata": {},
   "source": [
    "Descarrega el data set Airlines Delay: Airline on-time statistics and delay causes i carrega’l a un pandas Dataframe. Explora les dades que conté, i queda’t únicament amb les columnes que consideris rellevants."
   ]
  },
  {
   "cell_type": "code",
   "execution_count": 375,
   "id": "73ee1fb8",
   "metadata": {},
   "outputs": [
    {
     "ename": "NameError",
     "evalue": "name 'nrowsRead' is not defined",
     "output_type": "error",
     "traceback": [
      "\u001b[1;31m---------------------------------------------------------------------------\u001b[0m",
      "\u001b[1;31mNameError\u001b[0m                                 Traceback (most recent call last)",
      "Input \u001b[1;32mIn [375]\u001b[0m, in \u001b[0;36m<cell line: 4>\u001b[1;34m()\u001b[0m\n\u001b[0;32m      1\u001b[0m \u001b[38;5;28;01mimport\u001b[39;00m \u001b[38;5;21;01mpandas\u001b[39;00m \u001b[38;5;28;01mas\u001b[39;00m \u001b[38;5;21;01mpd\u001b[39;00m\n\u001b[0;32m      3\u001b[0m nRowsRead \u001b[38;5;241m=\u001b[39m \u001b[38;5;241m10000\u001b[39m\n\u001b[1;32m----> 4\u001b[0m df \u001b[38;5;241m=\u001b[39m pd\u001b[38;5;241m.\u001b[39mread_csv(\u001b[38;5;124m'\u001b[39m\u001b[38;5;124mAirlines_Delay/DelayedFlights.csv\u001b[39m\u001b[38;5;124m'\u001b[39m, delimiter\u001b[38;5;241m=\u001b[39m\u001b[38;5;124m'\u001b[39m\u001b[38;5;124m,\u001b[39m\u001b[38;5;124m'\u001b[39m, rows \u001b[38;5;241m=\u001b[39m \u001b[43mnrowsRead\u001b[49m)\n\u001b[0;32m      5\u001b[0m df\u001b[38;5;241m.\u001b[39mdataframeName \u001b[38;5;241m=\u001b[39m \u001b[38;5;124m'\u001b[39m\u001b[38;5;124mDelayedFlights.csv\u001b[39m\u001b[38;5;124m'\u001b[39m\n\u001b[0;32m      6\u001b[0m nRow, nCol \u001b[38;5;241m=\u001b[39m df\u001b[38;5;241m.\u001b[39mshape\n",
      "\u001b[1;31mNameError\u001b[0m: name 'nrowsRead' is not defined"
     ]
    }
   ],
   "source": [
    "import pandas as pd\n",
    "\n",
    "\n",
    "df = pd.read_csv('Airlines_Delay/DelayedFlights.csv', delimiter=',')\n",
    "df.dataframeName = 'DelayedFlights.csv'\n",
    "nRow, nCol = df.shape\n",
    "print(df.shape)\n",
    "print(f\"There are {nRow} rows and {nCol} columns\")\n",
    "print(df.head(5))\n",
    "\n",
    "print(\"\\n############################################################\\n\")\n",
    "\n",
    "newdf = pd.DataFrame(df,columns =[\"FlightNum\",\"UniqueCarrier\",\"ArrDelay\",\"DepDelay\",\"AirTime\",\"DepTime\",\"CRSDepTime\",\"ArrTime\",\"CRSArrTime\",\"Distance\",\"CarrierDelay\",\"WeatherDelay\",\"NASDelay\",\"SecurityDelay\"])\n",
    "\n",
    "print(newdf.head(5))\n"
   ]
  },
  {
   "cell_type": "markdown",
   "id": "853b47df",
   "metadata": {},
   "source": [
    "### - Exercici 2 ###"
   ]
  },
  {
   "cell_type": "markdown",
   "id": "0820e284",
   "metadata": {},
   "source": [
    "Fes un informe complet del data set:.\n",
    "\n",
    "* Resumeix estadísticament les columnes d’interès"
   ]
  },
  {
   "cell_type": "code",
   "execution_count": 335,
   "id": "6ff58668",
   "metadata": {
    "scrolled": true
   },
   "outputs": [
    {
     "name": "stdout",
     "output_type": "stream",
     "text": [
      "<class 'pandas.core.frame.DataFrame'>\n",
      "RangeIndex: 1936758 entries, 0 to 1936757\n",
      "Data columns (total 14 columns):\n",
      " #   Column         Dtype  \n",
      "---  ------         -----  \n",
      " 0   FlightNum      int64  \n",
      " 1   UniqueCarrier  object \n",
      " 2   ArrDelay       float64\n",
      " 3   DepDelay       float64\n",
      " 4   AirTime        float64\n",
      " 5   DepTime        float64\n",
      " 6   CRSDepTime     int64  \n",
      " 7   ArrTime        float64\n",
      " 8   CRSArrTime     int64  \n",
      " 9   Distance       int64  \n",
      " 10  CarrierDelay   float64\n",
      " 11  WeatherDelay   float64\n",
      " 12  NASDelay       float64\n",
      " 13  SecurityDelay  float64\n",
      "dtypes: float64(9), int64(4), object(1)\n",
      "memory usage: 206.9+ MB\n",
      "None\n",
      "          FlightNum      ArrDelay      DepDelay       AirTime       DepTime  \\\n",
      "count  1.936758e+06  1.928371e+06  1.936758e+06  1.928371e+06  1.936758e+06   \n",
      "mean   2.184263e+03  4.219988e+01  4.318518e+01  1.082771e+02  1.518534e+03   \n",
      "std    1.944702e+03  5.678472e+01  5.340250e+01  6.864261e+01  4.504853e+02   \n",
      "min    1.000000e+00 -1.090000e+02  6.000000e+00  0.000000e+00  1.000000e+00   \n",
      "25%    6.100000e+02  9.000000e+00  1.200000e+01  5.800000e+01  1.203000e+03   \n",
      "50%    1.543000e+03  2.400000e+01  2.400000e+01  9.000000e+01  1.545000e+03   \n",
      "75%    3.422000e+03  5.600000e+01  5.300000e+01  1.370000e+02  1.900000e+03   \n",
      "max    9.742000e+03  2.461000e+03  2.467000e+03  1.091000e+03  2.400000e+03   \n",
      "\n",
      "         CRSDepTime       ArrTime    CRSArrTime      Distance  CarrierDelay  \\\n",
      "count  1.936758e+06  1.929648e+06  1.936758e+06  1.936758e+06  1.247488e+06   \n",
      "mean   1.467473e+03  1.610141e+03  1.634225e+03  7.656862e+02  1.917940e+01   \n",
      "std    4.247668e+02  5.481781e+02  4.646347e+02  5.744797e+02  4.354621e+01   \n",
      "min    0.000000e+00  1.000000e+00  0.000000e+00  1.100000e+01  0.000000e+00   \n",
      "25%    1.135000e+03  1.316000e+03  1.325000e+03  3.380000e+02  0.000000e+00   \n",
      "50%    1.510000e+03  1.715000e+03  1.705000e+03  6.060000e+02  2.000000e+00   \n",
      "75%    1.815000e+03  2.030000e+03  2.014000e+03  9.980000e+02  2.100000e+01   \n",
      "max    2.359000e+03  2.400000e+03  2.400000e+03  4.962000e+03  2.436000e+03   \n",
      "\n",
      "       WeatherDelay      NASDelay  SecurityDelay  \n",
      "count  1.247488e+06  1.247488e+06   1.247488e+06  \n",
      "mean   3.703571e+00  1.502164e+01   9.013714e-02  \n",
      "std    2.149290e+01  3.383305e+01   2.022714e+00  \n",
      "min    0.000000e+00  0.000000e+00   0.000000e+00  \n",
      "25%    0.000000e+00  0.000000e+00   0.000000e+00  \n",
      "50%    0.000000e+00  2.000000e+00   0.000000e+00  \n",
      "75%    0.000000e+00  1.500000e+01   0.000000e+00  \n",
      "max    1.352000e+03  1.357000e+03   3.920000e+02  \n"
     ]
    }
   ],
   "source": [
    "#print(df.info())\n",
    "print(newdf.info())\n",
    "print(newdf.describe())"
   ]
  },
  {
   "cell_type": "markdown",
   "id": "079b30b3",
   "metadata": {},
   "source": [
    "* Troba quantes dades faltants hi ha per columna"
   ]
  },
  {
   "cell_type": "code",
   "execution_count": 336,
   "id": "5bb13cb6",
   "metadata": {},
   "outputs": [
    {
     "name": "stdout",
     "output_type": "stream",
     "text": [
      "FlightNum             0\n",
      "UniqueCarrier         0\n",
      "ArrDelay           8387\n",
      "DepDelay              0\n",
      "AirTime            8387\n",
      "DepTime               0\n",
      "CRSDepTime            0\n",
      "ArrTime            7110\n",
      "CRSArrTime            0\n",
      "Distance              0\n",
      "CarrierDelay     689270\n",
      "WeatherDelay     689270\n",
      "NASDelay         689270\n",
      "SecurityDelay    689270\n",
      "dtype: int64\n"
     ]
    }
   ],
   "source": [
    "print(newdf.isna().sum())"
   ]
  },
  {
   "cell_type": "markdown",
   "id": "0e45d0bd",
   "metadata": {},
   "source": [
    "* Crea columnes noves (velocitat mitjana del vol, si ha arribat tard o no...)"
   ]
  },
  {
   "cell_type": "code",
   "execution_count": 372,
   "id": "bb531f17",
   "metadata": {},
   "outputs": [
    {
     "name": "stdout",
     "output_type": "stream",
     "text": [
      "      FlightNum UniqueCarrier  ArrDelay  DepDelay  AirTime  DepTime  \\\n",
      "0           335            WN     -14.0       8.0    116.0   2003.0   \n",
      "1          3231            WN       2.0      19.0    113.0    754.0   \n",
      "2           448            WN      14.0       8.0     76.0    628.0   \n",
      "3          3920            WN      34.0      34.0     77.0   1829.0   \n",
      "4           378            WN      11.0      25.0     87.0   1940.0   \n",
      "...         ...           ...       ...       ...      ...      ...   \n",
      "4995       1324            WN      74.0      76.0     78.0   2021.0   \n",
      "4996       1920            WN      14.0      16.0     80.0   1301.0   \n",
      "4997       2555            WN      17.0      27.0     64.0   2007.0   \n",
      "4998        249            WN       2.0       7.0     72.0   1417.0   \n",
      "4999       3238            WN       6.0      10.0     74.0   1850.0   \n",
      "\n",
      "      CRSDepTime  ArrTime  CRSArrTime  Distance  CarrierDelay  WeatherDelay  \\\n",
      "0           1955   2211.0        2225       810           NaN           NaN   \n",
      "1            735   1002.0        1000       810           NaN           NaN   \n",
      "2            620    804.0         750       515           NaN           NaN   \n",
      "3           1755   1959.0        1925       515           2.0           0.0   \n",
      "4           1915   2121.0        2110       688           NaN           NaN   \n",
      "...          ...      ...         ...       ...           ...           ...   \n",
      "4995        1905   2254.0        2140       588           7.0           0.0   \n",
      "4996        1245   1534.0        1520       588           NaN           NaN   \n",
      "4997        1940   2222.0        2205       448           9.0           0.0   \n",
      "4998        1410   1647.0        1645       457           NaN           NaN   \n",
      "4999        1840   2116.0        2110       457           NaN           NaN   \n",
      "\n",
      "      NASDelay  SecurityDelay  AvgVelocity        Delay  total_delay  \n",
      "0          NaN            NaN     6.982759      Delayed          NaN  \n",
      "1          NaN            NaN     7.168142  Not Delayed          NaN  \n",
      "2          NaN            NaN     6.776316  Not Delayed          NaN  \n",
      "3          0.0            0.0     6.688312  Not Delayed         34.0  \n",
      "4          NaN            NaN     7.908046  Not Delayed          NaN  \n",
      "...        ...            ...          ...          ...          ...  \n",
      "4995       0.0            0.0     7.538462  Not Delayed         74.0  \n",
      "4996       NaN            NaN     7.350000  Not Delayed          NaN  \n",
      "4997       0.0            0.0     7.000000  Not Delayed         17.0  \n",
      "4998       NaN            NaN     6.347222  Not Delayed          NaN  \n",
      "4999       NaN            NaN     6.175676  Not Delayed          NaN  \n",
      "\n",
      "[5000 rows x 17 columns]\n"
     ]
    }
   ],
   "source": [
    "import numpy as np\n",
    "\n",
    "newdf[\"AvgVelocity\"] = newdf[\"Distance\"] / newdf[\"AirTime\"]\n",
    "\n",
    "newdf[\"Delay\"] = np.where(newdf[\"CRSArrTime\"] > df[\"ArrTime\"], \"Delayed\", \"Not Delayed\")\n",
    "print(newdf.head(5000))"
   ]
  },
  {
   "cell_type": "markdown",
   "id": "9c748cbb",
   "metadata": {},
   "source": [
    "* Taula de les aerolínies amb més endarreriments acumulats"
   ]
  },
  {
   "cell_type": "code",
   "execution_count": 365,
   "id": "84a1ce9d",
   "metadata": {},
   "outputs": [
    {
     "name": "stdout",
     "output_type": "stream",
     "text": [
      "UniqueCarrier\n",
      "9E    115.0\n",
      "AA     23.0\n",
      "AQ     33.0\n",
      "AS     63.0\n",
      "B6     19.0\n",
      "CO    171.0\n",
      "DL     27.0\n",
      "EV     66.0\n",
      "F9     17.0\n",
      "FL     29.0\n",
      "HA     42.0\n",
      "MQ     43.0\n",
      "NW     18.0\n",
      "OH     38.0\n",
      "OO     44.0\n",
      "UA     19.0\n",
      "US     41.0\n",
      "WN     34.0\n",
      "XE    278.0\n",
      "YV    152.0\n",
      "Name: total_delay, dtype: float64\n"
     ]
    }
   ],
   "source": [
    "newdf['total_delay'] = (newdf['CarrierDelay'] + newdf['WeatherDelay'] + newdf['NASDelay'] + newdf['SecurityDelay'] + df['LateAircraftDelay'])\n",
    "\n",
    "carrier_group = newdf.groupby(\"UniqueCarrier\")[\"total_delay\"]\n",
    "print(carrier_group.first())"
   ]
  },
  {
   "cell_type": "markdown",
   "id": "bf73fecc",
   "metadata": {},
   "source": [
    "* Quins són els vols més llargs? I els més endarrerits?"
   ]
  },
  {
   "cell_type": "code",
   "execution_count": 339,
   "id": "0b3e1396",
   "metadata": {},
   "outputs": [
    {
     "name": "stdout",
     "output_type": "stream",
     "text": [
      "Longer Flithts\n",
      "          FlightNum  AirTime\n",
      "1488690         21   1091.0\n",
      "1367047         28    733.0\n",
      "362529          15    664.0\n",
      "556381          15    655.0\n",
      "556385          15    654.0\n",
      "\n",
      "Longer Delayed\n",
      "          FlightNum  ArrDelay\n",
      "322516         808    2461.0\n",
      "686014        1699    2453.0\n",
      "839306        1107    1951.0\n",
      "1009553       3538    1707.0\n",
      "1881639        357    1655.0\n"
     ]
    }
   ],
   "source": [
    "longerFlights = newdf.sort_values(by=\"AirTime\",ascending=False)\n",
    "print(\"Longer Flithts\\n\",\n",
    "pd.DataFrame(longerFlights,columns = [\"FlightNum\",\"AirTime\"]).head(5))\n",
    "\n",
    "longerDelayed = newdf.sort_values(by=[\"ArrDelay\"],ascending=False)\n",
    "\n",
    "print(\"\\nLonger Delayed\\n\",\n",
    "pd.DataFrame(longerDelayed,columns = [\"FlightNum\",\"ArrDelay\"]).head(5))"
   ]
  },
  {
   "cell_type": "markdown",
   "id": "d0ed6ada",
   "metadata": {},
   "source": [
    "### - Exercici 3 ###"
   ]
  },
  {
   "cell_type": "markdown",
   "id": "a5472de8",
   "metadata": {},
   "source": [
    "Exporta el data set net i amb les noves columnes a Excel."
   ]
  },
  {
   "cell_type": "code",
   "execution_count": 376,
   "id": "3f244cd8",
   "metadata": {},
   "outputs": [],
   "source": [
    "newdf = newdf.sort_values(by=[\"FlightNum\"]).head(10000)\n",
    "newdf.to_excel(\"output.xlsx\") "
   ]
  }
 ],
 "metadata": {
  "kernelspec": {
   "display_name": "Python 3 (ipykernel)",
   "language": "python",
   "name": "python3"
  },
  "language_info": {
   "codemirror_mode": {
    "name": "ipython",
    "version": 3
   },
   "file_extension": ".py",
   "mimetype": "text/x-python",
   "name": "python",
   "nbconvert_exporter": "python",
   "pygments_lexer": "ipython3",
   "version": "3.9.12"
  },
  "latex_envs": {
   "LaTeX_envs_menu_present": true,
   "autoclose": false,
   "autocomplete": true,
   "bibliofile": "biblio.bib",
   "cite_by": "apalike",
   "current_citInitial": 1,
   "eqLabelWithNumbers": true,
   "eqNumInitial": 1,
   "hotkeys": {
    "equation": "Ctrl-E",
    "itemize": "Ctrl-I"
   },
   "labels_anchors": false,
   "latex_user_defs": false,
   "report_style_numbering": false,
   "user_envs_cfg": false
  }
 },
 "nbformat": 4,
 "nbformat_minor": 5
}
