{
 "cells": [
  {
   "cell_type": "markdown",
   "id": "0d7ce96c",
   "metadata": {},
   "source": [
    "# S02 T05: Exploració de les dades #"
   ]
  },
  {
   "cell_type": "markdown",
   "id": "e2299ebc",
   "metadata": {},
   "source": [
    "Familiaritza't amb les tècniques d'exploració de les dades mitjantçant la estructura de dades, Dataframe amb la llibreria Pandas."
   ]
  },
  {
   "cell_type": "markdown",
   "id": "283d62fc",
   "metadata": {},
   "source": [
    "## Nivell 1 ##"
   ]
  },
  {
   "cell_type": "markdown",
   "id": "8851d4c4",
   "metadata": {},
   "source": [
    "### - Exercici 1 ###"
   ]
  },
  {
   "cell_type": "markdown",
   "id": "7013e01d",
   "metadata": {},
   "source": [
    "Descarrega el data set Airlines Delay: Airline on-time statistics and delay causes i carrega’l a un pandas Dataframe. Explora les dades que conté, i queda’t únicament amb les columnes que consideris rellevants."
   ]
  },
  {
   "cell_type": "code",
   "execution_count": 274,
   "id": "73ee1fb8",
   "metadata": {},
   "outputs": [
    {
     "name": "stdout",
     "output_type": "stream",
     "text": [
      "(100, 30)\n",
      "There are 100 rows and 30 columns\n",
      "   Unnamed: 0  Year  Month  DayofMonth  DayOfWeek  DepTime  CRSDepTime  \\\n",
      "0           0  2008      1           3          4   2003.0        1955   \n",
      "1           1  2008      1           3          4    754.0         735   \n",
      "2           2  2008      1           3          4    628.0         620   \n",
      "3           4  2008      1           3          4   1829.0        1755   \n",
      "4           5  2008      1           3          4   1940.0        1915   \n",
      "5           6  2008      1           3          4   1937.0        1830   \n",
      "6          10  2008      1           3          4    706.0         700   \n",
      "7          11  2008      1           3          4   1644.0        1510   \n",
      "8          15  2008      1           3          4   1029.0        1020   \n",
      "9          16  2008      1           3          4   1452.0        1425   \n",
      "\n",
      "   ArrTime  CRSArrTime UniqueCarrier  ...  TaxiIn TaxiOut  Cancelled  \\\n",
      "0   2211.0        2225            WN  ...     4.0     8.0          0   \n",
      "1   1002.0        1000            WN  ...     5.0    10.0          0   \n",
      "2    804.0         750            WN  ...     3.0    17.0          0   \n",
      "3   1959.0        1925            WN  ...     3.0    10.0          0   \n",
      "4   2121.0        2110            WN  ...     4.0    10.0          0   \n",
      "5   2037.0        1940            WN  ...     3.0     7.0          0   \n",
      "6    916.0         915            WN  ...     5.0    19.0          0   \n",
      "7   1845.0        1725            WN  ...     6.0     8.0          0   \n",
      "8   1021.0        1010            WN  ...     6.0     9.0          0   \n",
      "9   1640.0        1625            WN  ...     7.0     8.0          0   \n",
      "\n",
      "   CancellationCode  Diverted  CarrierDelay  WeatherDelay NASDelay  \\\n",
      "0                 N         0           NaN           NaN      NaN   \n",
      "1                 N         0           NaN           NaN      NaN   \n",
      "2                 N         0           NaN           NaN      NaN   \n",
      "3                 N         0           2.0           0.0      0.0   \n",
      "4                 N         0           NaN           NaN      NaN   \n",
      "5                 N         0          10.0           0.0      0.0   \n",
      "6                 N         0           NaN           NaN      NaN   \n",
      "7                 N         0           8.0           0.0      0.0   \n",
      "8                 N         0           NaN           NaN      NaN   \n",
      "9                 N         0           3.0           0.0      0.0   \n",
      "\n",
      "  SecurityDelay  LateAircraftDelay  \n",
      "0           NaN                NaN  \n",
      "1           NaN                NaN  \n",
      "2           NaN                NaN  \n",
      "3           0.0               32.0  \n",
      "4           NaN                NaN  \n",
      "5           0.0               47.0  \n",
      "6           NaN                NaN  \n",
      "7           0.0               72.0  \n",
      "8           NaN                NaN  \n",
      "9           0.0               12.0  \n",
      "\n",
      "[10 rows x 30 columns]\n",
      "\n",
      "############################################################\n",
      "\n",
      "   FlightNum UniqueCarrier  ArrDelay  DepDelay  AirTime  DepTime  CRSDepTime  \\\n",
      "0        335            WN     -14.0       8.0    116.0   2003.0        1955   \n",
      "1       3231            WN       2.0      19.0    113.0    754.0         735   \n",
      "2        448            WN      14.0       8.0     76.0    628.0         620   \n",
      "3       3920            WN      34.0      34.0     77.0   1829.0        1755   \n",
      "4        378            WN      11.0      25.0     87.0   1940.0        1915   \n",
      "\n",
      "   ArrTime  CRSArrTime  Distance  CarrierDelay  WeatherDelay  NASDelay  \\\n",
      "0   2211.0        2225       810           NaN           NaN       NaN   \n",
      "1   1002.0        1000       810           NaN           NaN       NaN   \n",
      "2    804.0         750       515           NaN           NaN       NaN   \n",
      "3   1959.0        1925       515           2.0           0.0       0.0   \n",
      "4   2121.0        2110       688           NaN           NaN       NaN   \n",
      "\n",
      "   SecurityDelay  \n",
      "0            NaN  \n",
      "1            NaN  \n",
      "2            NaN  \n",
      "3            0.0  \n",
      "4            NaN  \n"
     ]
    }
   ],
   "source": [
    "import pandas as pd\n",
    "\n",
    "nRowsRead = 100\n",
    "df = pd.read_csv('Airlines_Delay/DelayedFlights.csv', delimiter=',', nrows = nRowsRead)\n",
    "df.dataframeName = 'DelayedFlights.csv'\n",
    "nRow, nCol = df.shape\n",
    "print(df.shape)\n",
    "print(f\"There are {nRow} rows and {nCol} columns\")\n",
    "print(df.head(10))\n",
    "\n",
    "print(\"\\n############################################################\\n\")\n",
    "\n",
    "newdf = pd.DataFrame(df,columns =[\"FlightNum\",\"UniqueCarrier\",\"ArrDelay\",\"DepDelay\",\"AirTime\",\"DepTime\",\"CRSDepTime\",\"ArrTime\",\"CRSArrTime\",\"Distance\",\"CarrierDelay\",\"WeatherDelay\",\"NASDelay\",\"SecurityDelay\"])\n",
    "\n",
    "print(newdf.head(5))\n"
   ]
  },
  {
   "cell_type": "markdown",
   "id": "853b47df",
   "metadata": {},
   "source": [
    "### - Exercici 2 ###"
   ]
  },
  {
   "cell_type": "markdown",
   "id": "0820e284",
   "metadata": {},
   "source": [
    "Fes un informe complet del data set:.\n",
    "\n",
    "* Resumeix estadísticament les columnes d’interès"
   ]
  },
  {
   "cell_type": "code",
   "execution_count": 275,
   "id": "6ff58668",
   "metadata": {
    "scrolled": true
   },
   "outputs": [
    {
     "name": "stdout",
     "output_type": "stream",
     "text": [
      "<class 'pandas.core.frame.DataFrame'>\n",
      "RangeIndex: 100 entries, 0 to 99\n",
      "Data columns (total 14 columns):\n",
      " #   Column         Non-Null Count  Dtype  \n",
      "---  ------         --------------  -----  \n",
      " 0   FlightNum      100 non-null    int64  \n",
      " 1   UniqueCarrier  100 non-null    object \n",
      " 2   ArrDelay       100 non-null    float64\n",
      " 3   DepDelay       100 non-null    float64\n",
      " 4   AirTime        100 non-null    float64\n",
      " 5   DepTime        100 non-null    float64\n",
      " 6   CRSDepTime     100 non-null    int64  \n",
      " 7   ArrTime        100 non-null    float64\n",
      " 8   CRSArrTime     100 non-null    int64  \n",
      " 9   Distance       100 non-null    int64  \n",
      " 10  CarrierDelay   59 non-null     float64\n",
      " 11  WeatherDelay   59 non-null     float64\n",
      " 12  NASDelay       59 non-null     float64\n",
      " 13  SecurityDelay  59 non-null     float64\n",
      "dtypes: float64(9), int64(4), object(1)\n",
      "memory usage: 11.1+ KB\n",
      "None\n",
      "         FlightNum    ArrDelay    DepDelay     AirTime      DepTime  \\\n",
      "count   100.000000  100.000000  100.000000  100.000000   100.000000   \n",
      "mean   1557.910000   31.280000   40.790000  111.030000  1496.090000   \n",
      "std    1178.846561   47.581101   47.448919   60.405608   453.570706   \n",
      "min       4.000000  -26.000000    6.000000   36.000000   628.000000   \n",
      "25%     506.750000    5.750000   14.000000   59.000000  1128.500000   \n",
      "50%    1286.000000   18.500000   27.000000  106.500000  1524.000000   \n",
      "75%    2281.000000   44.000000   52.250000  143.000000  1829.750000   \n",
      "max    3948.000000  304.000000  315.000000  269.000000  2255.000000   \n",
      "\n",
      "        CRSDepTime      ArrTime   CRSArrTime     Distance  CarrierDelay  \\\n",
      "count   100.000000   100.000000   100.000000   100.000000     59.000000   \n",
      "mean   1426.900000  1502.930000  1474.450000   840.520000     17.644068   \n",
      "std     421.412835   629.659219   625.284539   567.230779     39.477957   \n",
      "min     620.000000   102.000000     5.000000   162.000000      0.000000   \n",
      "25%    1091.250000  1135.250000  1151.250000   359.000000      2.000000   \n",
      "50%    1450.000000  1650.500000  1632.500000   750.000000      8.000000   \n",
      "75%    1736.250000  1940.250000  1905.000000  1090.750000     17.500000   \n",
      "max    2150.000000  2357.000000  2345.000000  2298.000000    282.000000   \n",
      "\n",
      "       WeatherDelay   NASDelay  SecurityDelay  \n",
      "count          59.0  59.000000      59.000000  \n",
      "mean            0.0   1.983051       0.508475  \n",
      "std             0.0   5.042890       2.246629  \n",
      "min             0.0   0.000000       0.000000  \n",
      "25%             0.0   0.000000       0.000000  \n",
      "50%             0.0   0.000000       0.000000  \n",
      "75%             0.0   0.000000       0.000000  \n",
      "max             0.0  28.000000      12.000000  \n"
     ]
    }
   ],
   "source": [
    "#print(df.info())\n",
    "print(newdf.info())\n",
    "print(newdf.describe())"
   ]
  },
  {
   "cell_type": "markdown",
   "id": "079b30b3",
   "metadata": {},
   "source": [
    "* Troba quantes dades faltants hi ha per columna"
   ]
  },
  {
   "cell_type": "code",
   "execution_count": 276,
   "id": "5bb13cb6",
   "metadata": {},
   "outputs": [
    {
     "name": "stdout",
     "output_type": "stream",
     "text": [
      "FlightNum         0\n",
      "UniqueCarrier     0\n",
      "ArrDelay          0\n",
      "DepDelay          0\n",
      "AirTime           0\n",
      "DepTime           0\n",
      "CRSDepTime        0\n",
      "ArrTime           0\n",
      "CRSArrTime        0\n",
      "Distance          0\n",
      "CarrierDelay     41\n",
      "WeatherDelay     41\n",
      "NASDelay         41\n",
      "SecurityDelay    41\n",
      "dtype: int64\n"
     ]
    }
   ],
   "source": [
    "print(newdf.isna().sum())"
   ]
  },
  {
   "cell_type": "markdown",
   "id": "0e45d0bd",
   "metadata": {},
   "source": [
    "* Crea columnes noves (velocitat mitjana del vol, si ha arribat tard o no...)"
   ]
  },
  {
   "cell_type": "code",
   "execution_count": 277,
   "id": "bb531f17",
   "metadata": {},
   "outputs": [
    {
     "name": "stdout",
     "output_type": "stream",
     "text": [
      "   FlightNum UniqueCarrier  ArrDelay  DepDelay  AirTime  DepTime  CRSDepTime  \\\n",
      "0        335            WN     -14.0       8.0    116.0   2003.0        1955   \n",
      "1       3231            WN       2.0      19.0    113.0    754.0         735   \n",
      "2        448            WN      14.0       8.0     76.0    628.0         620   \n",
      "3       3920            WN      34.0      34.0     77.0   1829.0        1755   \n",
      "4        378            WN      11.0      25.0     87.0   1940.0        1915   \n",
      "5        509            WN      57.0      67.0    230.0   1937.0        1830   \n",
      "6        100            WN       1.0       6.0    106.0    706.0         700   \n",
      "7       1333            WN      80.0      94.0    107.0   1644.0        1510   \n",
      "8       2272            WN      11.0       9.0     37.0   1029.0        1020   \n",
      "9        675            WN      15.0      27.0    213.0   1452.0        1425   \n",
      "\n",
      "   ArrTime  CRSArrTime  Distance  CarrierDelay  WeatherDelay  NASDelay  \\\n",
      "0   2211.0        2225       810           NaN           NaN       NaN   \n",
      "1   1002.0        1000       810           NaN           NaN       NaN   \n",
      "2    804.0         750       515           NaN           NaN       NaN   \n",
      "3   1959.0        1925       515           2.0           0.0       0.0   \n",
      "4   2121.0        2110       688           NaN           NaN       NaN   \n",
      "5   2037.0        1940      1591          10.0           0.0       0.0   \n",
      "6    916.0         915       828           NaN           NaN       NaN   \n",
      "7   1845.0        1725       828           8.0           0.0       0.0   \n",
      "8   1021.0        1010       162           NaN           NaN       NaN   \n",
      "9   1640.0        1625      1489           3.0           0.0       0.0   \n",
      "\n",
      "   SecurityDelay  AvgVelocity        Delay  \n",
      "0            NaN     6.982759      Delayed  \n",
      "1            NaN     7.168142  Not Delayed  \n",
      "2            NaN     6.776316  Not Delayed  \n",
      "3            0.0     6.688312  Not Delayed  \n",
      "4            NaN     7.908046  Not Delayed  \n",
      "5            0.0     6.917391  Not Delayed  \n",
      "6            NaN     7.811321  Not Delayed  \n",
      "7            0.0     7.738318  Not Delayed  \n",
      "8            NaN     4.378378  Not Delayed  \n",
      "9            0.0     6.990610  Not Delayed  \n"
     ]
    }
   ],
   "source": [
    "import numpy as np\n",
    "\n",
    "newdf[\"AvgVelocity\"] = newdf[\"Distance\"] / newdf[\"AirTime\"]\n",
    "\n",
    "newdf[\"Delay\"] = np.where(newdf[\"CRSArrTime\"] > df[\"ArrTime\"], \"Delayed\", \"Not Delayed\")\n",
    "print(newdf.head(10))"
   ]
  },
  {
   "cell_type": "markdown",
   "id": "9c748cbb",
   "metadata": {},
   "source": [
    "* Taula de les aerolínies amb més endarreriments acumulats"
   ]
  },
  {
   "cell_type": "code",
   "execution_count": 303,
   "id": "84a1ce9d",
   "metadata": {},
   "outputs": [
    {
     "name": "stdout",
     "output_type": "stream",
     "text": [
      "               UniqueCarrier  total_delay\n",
      "UniqueCarrier                            \n",
      "WN                       NaN    51.728814\n"
     ]
    }
   ],
   "source": [
    "newdf['total_delay'] = (newdf['CarrierDelay'] + newdf['WeatherDelay'] + newdf['NASDelay'] + newdf['SecurityDelay'] + df['LateAircraftDelay'])\n",
    "\n",
    "df_delayed = newdf[~np.isnan(newdf['total_delay'])]\n",
    "newdf['total_delay'].fillna(0, inplace=True)\n",
    "\n",
    "print(pd.DataFrame(carrier_group,columns = [\"UniqueCarrier\",\"total_delay\"]))"
   ]
  },
  {
   "cell_type": "markdown",
   "id": "bf73fecc",
   "metadata": {},
   "source": [
    "* Quins són els vols més llargs? I els més endarrerits?"
   ]
  },
  {
   "cell_type": "code",
   "execution_count": 302,
   "id": "0b3e1396",
   "metadata": {},
   "outputs": [
    {
     "name": "stdout",
     "output_type": "stream",
     "text": [
      "Longer Flithts\n",
      "     FlightNum  AirTime\n",
      "95       3144    269.0\n",
      "58       1018    253.0\n",
      "73       1774    244.0\n",
      "53        302    243.0\n",
      "92       1027    232.0\n",
      "\n",
      "Longer Delayed\n",
      "     FlightNum  ArrDelay\n",
      "33        186     304.0\n",
      "93       1924     254.0\n",
      "67       1072     210.0\n",
      "80        706     112.0\n",
      "7        1333      80.0\n"
     ]
    }
   ],
   "source": [
    "longerFlights = newdf.sort_values(by=\"AirTime\",ascending=False)\n",
    "print(\"Longer Flithts\\n\",\n",
    "pd.DataFrame(longerFlights,columns = [\"FlightNum\",\"AirTime\"]).head(5))\n",
    "\n",
    "longerDelayed = newdf.sort_values(by=[\"ArrDelay\"],ascending=False)\n",
    "\n",
    "print(\"\\nLonger Delayed\\n\",\n",
    "pd.DataFrame(longerDelayed,columns = [\"FlightNum\",\"ArrDelay\"]).head(5))"
   ]
  },
  {
   "cell_type": "markdown",
   "id": "d0ed6ada",
   "metadata": {},
   "source": [
    "### - Exercici 3 ###"
   ]
  },
  {
   "cell_type": "markdown",
   "id": "a5472de8",
   "metadata": {},
   "source": [
    "Exporta el data set net i amb les noves columnes a Excel."
   ]
  },
  {
   "cell_type": "code",
   "execution_count": 313,
   "id": "3f244cd8",
   "metadata": {},
   "outputs": [
    {
     "ename": "PermissionError",
     "evalue": "[Errno 13] Permission denied: 'output.xlsx'",
     "output_type": "error",
     "traceback": [
      "\u001b[1;31m---------------------------------------------------------------------------\u001b[0m",
      "\u001b[1;31mPermissionError\u001b[0m                           Traceback (most recent call last)",
      "Input \u001b[1;32mIn [313]\u001b[0m, in \u001b[0;36m<cell line: 2>\u001b[1;34m()\u001b[0m\n\u001b[0;32m      1\u001b[0m newdf \u001b[38;5;241m=\u001b[39m newdf\u001b[38;5;241m.\u001b[39msort_values(by\u001b[38;5;241m=\u001b[39m[\u001b[38;5;124m\"\u001b[39m\u001b[38;5;124mFlightNum\u001b[39m\u001b[38;5;124m\"\u001b[39m])\n\u001b[1;32m----> 2\u001b[0m \u001b[43mnewdf\u001b[49m\u001b[38;5;241;43m.\u001b[39;49m\u001b[43mto_excel\u001b[49m\u001b[43m(\u001b[49m\u001b[38;5;124;43m\"\u001b[39;49m\u001b[38;5;124;43moutput.xlsx\u001b[39;49m\u001b[38;5;124;43m\"\u001b[39;49m\u001b[43m)\u001b[49m\n",
      "File \u001b[1;32m~\\anaconda3\\envs\\ItAcademy\\lib\\site-packages\\pandas\\core\\generic.py:2345\u001b[0m, in \u001b[0;36mNDFrame.to_excel\u001b[1;34m(self, excel_writer, sheet_name, na_rep, float_format, columns, header, index, index_label, startrow, startcol, engine, merge_cells, encoding, inf_rep, verbose, freeze_panes, storage_options)\u001b[0m\n\u001b[0;32m   2332\u001b[0m \u001b[38;5;28;01mfrom\u001b[39;00m \u001b[38;5;21;01mpandas\u001b[39;00m\u001b[38;5;21;01m.\u001b[39;00m\u001b[38;5;21;01mio\u001b[39;00m\u001b[38;5;21;01m.\u001b[39;00m\u001b[38;5;21;01mformats\u001b[39;00m\u001b[38;5;21;01m.\u001b[39;00m\u001b[38;5;21;01mexcel\u001b[39;00m \u001b[38;5;28;01mimport\u001b[39;00m ExcelFormatter\n\u001b[0;32m   2334\u001b[0m formatter \u001b[38;5;241m=\u001b[39m ExcelFormatter(\n\u001b[0;32m   2335\u001b[0m     df,\n\u001b[0;32m   2336\u001b[0m     na_rep\u001b[38;5;241m=\u001b[39mna_rep,\n\u001b[1;32m   (...)\u001b[0m\n\u001b[0;32m   2343\u001b[0m     inf_rep\u001b[38;5;241m=\u001b[39minf_rep,\n\u001b[0;32m   2344\u001b[0m )\n\u001b[1;32m-> 2345\u001b[0m \u001b[43mformatter\u001b[49m\u001b[38;5;241;43m.\u001b[39;49m\u001b[43mwrite\u001b[49m\u001b[43m(\u001b[49m\n\u001b[0;32m   2346\u001b[0m \u001b[43m    \u001b[49m\u001b[43mexcel_writer\u001b[49m\u001b[43m,\u001b[49m\n\u001b[0;32m   2347\u001b[0m \u001b[43m    \u001b[49m\u001b[43msheet_name\u001b[49m\u001b[38;5;241;43m=\u001b[39;49m\u001b[43msheet_name\u001b[49m\u001b[43m,\u001b[49m\n\u001b[0;32m   2348\u001b[0m \u001b[43m    \u001b[49m\u001b[43mstartrow\u001b[49m\u001b[38;5;241;43m=\u001b[39;49m\u001b[43mstartrow\u001b[49m\u001b[43m,\u001b[49m\n\u001b[0;32m   2349\u001b[0m \u001b[43m    \u001b[49m\u001b[43mstartcol\u001b[49m\u001b[38;5;241;43m=\u001b[39;49m\u001b[43mstartcol\u001b[49m\u001b[43m,\u001b[49m\n\u001b[0;32m   2350\u001b[0m \u001b[43m    \u001b[49m\u001b[43mfreeze_panes\u001b[49m\u001b[38;5;241;43m=\u001b[39;49m\u001b[43mfreeze_panes\u001b[49m\u001b[43m,\u001b[49m\n\u001b[0;32m   2351\u001b[0m \u001b[43m    \u001b[49m\u001b[43mengine\u001b[49m\u001b[38;5;241;43m=\u001b[39;49m\u001b[43mengine\u001b[49m\u001b[43m,\u001b[49m\n\u001b[0;32m   2352\u001b[0m \u001b[43m    \u001b[49m\u001b[43mstorage_options\u001b[49m\u001b[38;5;241;43m=\u001b[39;49m\u001b[43mstorage_options\u001b[49m\u001b[43m,\u001b[49m\n\u001b[0;32m   2353\u001b[0m \u001b[43m\u001b[49m\u001b[43m)\u001b[49m\n",
      "File \u001b[1;32m~\\anaconda3\\envs\\ItAcademy\\lib\\site-packages\\pandas\\io\\formats\\excel.py:888\u001b[0m, in \u001b[0;36mExcelFormatter.write\u001b[1;34m(self, writer, sheet_name, startrow, startcol, freeze_panes, engine, storage_options)\u001b[0m\n\u001b[0;32m    884\u001b[0m     need_save \u001b[38;5;241m=\u001b[39m \u001b[38;5;28;01mFalse\u001b[39;00m\n\u001b[0;32m    885\u001b[0m \u001b[38;5;28;01melse\u001b[39;00m:\n\u001b[0;32m    886\u001b[0m     \u001b[38;5;66;03m# error: Cannot instantiate abstract class 'ExcelWriter' with abstract\u001b[39;00m\n\u001b[0;32m    887\u001b[0m     \u001b[38;5;66;03m# attributes 'engine', 'save', 'supported_extensions' and 'write_cells'\u001b[39;00m\n\u001b[1;32m--> 888\u001b[0m     writer \u001b[38;5;241m=\u001b[39m \u001b[43mExcelWriter\u001b[49m\u001b[43m(\u001b[49m\u001b[43m  \u001b[49m\u001b[38;5;66;43;03m# type: ignore[abstract]\u001b[39;49;00m\n\u001b[0;32m    889\u001b[0m \u001b[43m        \u001b[49m\u001b[43mwriter\u001b[49m\u001b[43m,\u001b[49m\u001b[43m \u001b[49m\u001b[43mengine\u001b[49m\u001b[38;5;241;43m=\u001b[39;49m\u001b[43mengine\u001b[49m\u001b[43m,\u001b[49m\u001b[43m \u001b[49m\u001b[43mstorage_options\u001b[49m\u001b[38;5;241;43m=\u001b[39;49m\u001b[43mstorage_options\u001b[49m\n\u001b[0;32m    890\u001b[0m \u001b[43m    \u001b[49m\u001b[43m)\u001b[49m\n\u001b[0;32m    891\u001b[0m     need_save \u001b[38;5;241m=\u001b[39m \u001b[38;5;28;01mTrue\u001b[39;00m\n\u001b[0;32m    893\u001b[0m \u001b[38;5;28;01mtry\u001b[39;00m:\n",
      "File \u001b[1;32m~\\anaconda3\\envs\\ItAcademy\\lib\\site-packages\\pandas\\io\\excel\\_openpyxl.py:53\u001b[0m, in \u001b[0;36mOpenpyxlWriter.__init__\u001b[1;34m(self, path, engine, date_format, datetime_format, mode, storage_options, if_sheet_exists, engine_kwargs, **kwargs)\u001b[0m\n\u001b[0;32m     49\u001b[0m \u001b[38;5;28;01mfrom\u001b[39;00m \u001b[38;5;21;01mopenpyxl\u001b[39;00m\u001b[38;5;21;01m.\u001b[39;00m\u001b[38;5;21;01mworkbook\u001b[39;00m \u001b[38;5;28;01mimport\u001b[39;00m Workbook\n\u001b[0;32m     51\u001b[0m engine_kwargs \u001b[38;5;241m=\u001b[39m combine_kwargs(engine_kwargs, kwargs)\n\u001b[1;32m---> 53\u001b[0m \u001b[38;5;28;43msuper\u001b[39;49m\u001b[43m(\u001b[49m\u001b[43m)\u001b[49m\u001b[38;5;241;43m.\u001b[39;49m\u001b[38;5;21;43m__init__\u001b[39;49m\u001b[43m(\u001b[49m\n\u001b[0;32m     54\u001b[0m \u001b[43m    \u001b[49m\u001b[43mpath\u001b[49m\u001b[43m,\u001b[49m\n\u001b[0;32m     55\u001b[0m \u001b[43m    \u001b[49m\u001b[43mmode\u001b[49m\u001b[38;5;241;43m=\u001b[39;49m\u001b[43mmode\u001b[49m\u001b[43m,\u001b[49m\n\u001b[0;32m     56\u001b[0m \u001b[43m    \u001b[49m\u001b[43mstorage_options\u001b[49m\u001b[38;5;241;43m=\u001b[39;49m\u001b[43mstorage_options\u001b[49m\u001b[43m,\u001b[49m\n\u001b[0;32m     57\u001b[0m \u001b[43m    \u001b[49m\u001b[43mif_sheet_exists\u001b[49m\u001b[38;5;241;43m=\u001b[39;49m\u001b[43mif_sheet_exists\u001b[49m\u001b[43m,\u001b[49m\n\u001b[0;32m     58\u001b[0m \u001b[43m    \u001b[49m\u001b[43mengine_kwargs\u001b[49m\u001b[38;5;241;43m=\u001b[39;49m\u001b[43mengine_kwargs\u001b[49m\u001b[43m,\u001b[49m\n\u001b[0;32m     59\u001b[0m \u001b[43m\u001b[49m\u001b[43m)\u001b[49m\n\u001b[0;32m     61\u001b[0m \u001b[38;5;66;03m# ExcelWriter replaced \"a\" by \"r+\" to allow us to first read the excel file from\u001b[39;00m\n\u001b[0;32m     62\u001b[0m \u001b[38;5;66;03m# the file and later write to it\u001b[39;00m\n\u001b[0;32m     63\u001b[0m \u001b[38;5;28;01mif\u001b[39;00m \u001b[38;5;124m\"\u001b[39m\u001b[38;5;124mr+\u001b[39m\u001b[38;5;124m\"\u001b[39m \u001b[38;5;129;01min\u001b[39;00m \u001b[38;5;28mself\u001b[39m\u001b[38;5;241m.\u001b[39mmode:  \u001b[38;5;66;03m# Load from existing workbook\u001b[39;00m\n",
      "File \u001b[1;32m~\\anaconda3\\envs\\ItAcademy\\lib\\site-packages\\pandas\\io\\excel\\_base.py:1106\u001b[0m, in \u001b[0;36mExcelWriter.__init__\u001b[1;34m(self, path, engine, date_format, datetime_format, mode, storage_options, if_sheet_exists, engine_kwargs, **kwargs)\u001b[0m\n\u001b[0;32m   1102\u001b[0m \u001b[38;5;28mself\u001b[39m\u001b[38;5;241m.\u001b[39mhandles \u001b[38;5;241m=\u001b[39m IOHandles(\n\u001b[0;32m   1103\u001b[0m     cast(IO[\u001b[38;5;28mbytes\u001b[39m], path), compression\u001b[38;5;241m=\u001b[39m{\u001b[38;5;124m\"\u001b[39m\u001b[38;5;124mcompression\u001b[39m\u001b[38;5;124m\"\u001b[39m: \u001b[38;5;28;01mNone\u001b[39;00m}\n\u001b[0;32m   1104\u001b[0m )\n\u001b[0;32m   1105\u001b[0m \u001b[38;5;28;01mif\u001b[39;00m \u001b[38;5;129;01mnot\u001b[39;00m \u001b[38;5;28misinstance\u001b[39m(path, ExcelWriter):\n\u001b[1;32m-> 1106\u001b[0m     \u001b[38;5;28mself\u001b[39m\u001b[38;5;241m.\u001b[39mhandles \u001b[38;5;241m=\u001b[39m \u001b[43mget_handle\u001b[49m\u001b[43m(\u001b[49m\n\u001b[0;32m   1107\u001b[0m \u001b[43m        \u001b[49m\u001b[43mpath\u001b[49m\u001b[43m,\u001b[49m\u001b[43m \u001b[49m\u001b[43mmode\u001b[49m\u001b[43m,\u001b[49m\u001b[43m \u001b[49m\u001b[43mstorage_options\u001b[49m\u001b[38;5;241;43m=\u001b[39;49m\u001b[43mstorage_options\u001b[49m\u001b[43m,\u001b[49m\u001b[43m \u001b[49m\u001b[43mis_text\u001b[49m\u001b[38;5;241;43m=\u001b[39;49m\u001b[38;5;28;43;01mFalse\u001b[39;49;00m\n\u001b[0;32m   1108\u001b[0m \u001b[43m    \u001b[49m\u001b[43m)\u001b[49m\n\u001b[0;32m   1109\u001b[0m \u001b[38;5;28mself\u001b[39m\u001b[38;5;241m.\u001b[39msheets: \u001b[38;5;28mdict\u001b[39m[\u001b[38;5;28mstr\u001b[39m, Any] \u001b[38;5;241m=\u001b[39m {}\n\u001b[0;32m   1110\u001b[0m \u001b[38;5;28mself\u001b[39m\u001b[38;5;241m.\u001b[39mcur_sheet \u001b[38;5;241m=\u001b[39m \u001b[38;5;28;01mNone\u001b[39;00m\n",
      "File \u001b[1;32m~\\anaconda3\\envs\\ItAcademy\\lib\\site-packages\\pandas\\io\\common.py:798\u001b[0m, in \u001b[0;36mget_handle\u001b[1;34m(path_or_buf, mode, encoding, compression, memory_map, is_text, errors, storage_options)\u001b[0m\n\u001b[0;32m    789\u001b[0m         handle \u001b[38;5;241m=\u001b[39m \u001b[38;5;28mopen\u001b[39m(\n\u001b[0;32m    790\u001b[0m             handle,\n\u001b[0;32m    791\u001b[0m             ioargs\u001b[38;5;241m.\u001b[39mmode,\n\u001b[1;32m   (...)\u001b[0m\n\u001b[0;32m    794\u001b[0m             newline\u001b[38;5;241m=\u001b[39m\u001b[38;5;124m\"\u001b[39m\u001b[38;5;124m\"\u001b[39m,\n\u001b[0;32m    795\u001b[0m         )\n\u001b[0;32m    796\u001b[0m     \u001b[38;5;28;01melse\u001b[39;00m:\n\u001b[0;32m    797\u001b[0m         \u001b[38;5;66;03m# Binary mode\u001b[39;00m\n\u001b[1;32m--> 798\u001b[0m         handle \u001b[38;5;241m=\u001b[39m \u001b[38;5;28;43mopen\u001b[39;49m\u001b[43m(\u001b[49m\u001b[43mhandle\u001b[49m\u001b[43m,\u001b[49m\u001b[43m \u001b[49m\u001b[43mioargs\u001b[49m\u001b[38;5;241;43m.\u001b[39;49m\u001b[43mmode\u001b[49m\u001b[43m)\u001b[49m\n\u001b[0;32m    799\u001b[0m     handles\u001b[38;5;241m.\u001b[39mappend(handle)\n\u001b[0;32m    801\u001b[0m \u001b[38;5;66;03m# Convert BytesIO or file objects passed with an encoding\u001b[39;00m\n",
      "\u001b[1;31mPermissionError\u001b[0m: [Errno 13] Permission denied: 'output.xlsx'"
     ]
    }
   ],
   "source": [
    "newdf = newdf.sort_values(by=[\"FlightNum\"])\n",
    "newdf.to_excel(\"output.xlsx\") "
   ]
  }
 ],
 "metadata": {
  "kernelspec": {
   "display_name": "Python 3 (ipykernel)",
   "language": "python",
   "name": "python3"
  },
  "language_info": {
   "codemirror_mode": {
    "name": "ipython",
    "version": 3
   },
   "file_extension": ".py",
   "mimetype": "text/x-python",
   "name": "python",
   "nbconvert_exporter": "python",
   "pygments_lexer": "ipython3",
   "version": "3.9.12"
  },
  "latex_envs": {
   "LaTeX_envs_menu_present": true,
   "autoclose": false,
   "autocomplete": true,
   "bibliofile": "biblio.bib",
   "cite_by": "apalike",
   "current_citInitial": 1,
   "eqLabelWithNumbers": true,
   "eqNumInitial": 1,
   "hotkeys": {
    "equation": "Ctrl-E",
    "itemize": "Ctrl-I"
   },
   "labels_anchors": false,
   "latex_user_defs": false,
   "report_style_numbering": false,
   "user_envs_cfg": false
  }
 },
 "nbformat": 4,
 "nbformat_minor": 5
}
